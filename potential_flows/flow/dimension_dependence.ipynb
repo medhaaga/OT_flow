{
 "cells": [
  {
   "cell_type": "code",
   "execution_count": 1,
   "metadata": {},
   "outputs": [],
   "source": [
    "import sys\n",
    "sys.path.append(\"../../\")\n",
    "from potential_flows import transforms\n",
    "from potential_flows import potential\n",
    "import torch\n",
    "import time\n",
    "import numpy as np\n",
    "from tqdm import tqdm\n",
    "from torch.nn import functional as F\n",
    "import matplotlib.pyplot as plt"
   ]
  },
  {
   "cell_type": "code",
   "execution_count": 2,
   "metadata": {},
   "outputs": [],
   "source": [
    "n = 1000\n",
    "d_num = 30\n",
    "d_list = d_list = [int(10*(d+1)) for d in range(d_num)]\n",
    "time_list = np.zeros(d_num)"
   ]
  },
  {
   "cell_type": "code",
   "execution_count": 3,
   "metadata": {},
   "outputs": [],
   "source": [
    "def objective_function(x, y, potential_flow):\n",
    "    return -torch.sum(torch.sum(x*y, dim=-1) - potential_flow.integral(x))"
   ]
  },
  {
   "cell_type": "code",
   "execution_count": 4,
   "metadata": {},
   "outputs": [
    {
     "name": "stderr",
     "output_type": "stream",
     "text": [
      "/home/medhaaga/OT_flow/potential_flows/flow/../../potential_flows/transforms/utils.py:51: UserWarning: torch.qr is deprecated in favor of torch.linalg.qr and will be removed in a future PyTorch release.\n",
      "The boolean parameter 'some' has been replaced with a string parameter 'mode'.\n",
      "Q, R = torch.qr(A, some)\n",
      "should be replaced with\n",
      "Q, R = torch.linalg.qr(A, 'reduced' if some else 'complete') (Triggered internally at ../aten/src/ATen/native/BatchLinearAlgebra.cpp:2425.)\n",
      "  q, _ = torch.qr(x)\n",
      "100%|██████████| 100/100 [00:01<00:00, 53.53it/s]\n"
     ]
    },
    {
     "name": "stdout",
     "output_type": "stream",
     "text": [
      "Dimension: 10, Real time: 1.87 seconds\n",
      "Dimension: 10, CPU time: 1.87 seconds\n",
      "\n"
     ]
    },
    {
     "name": "stderr",
     "output_type": "stream",
     "text": [
      "100%|██████████| 100/100 [00:02<00:00, 46.14it/s]\n"
     ]
    },
    {
     "name": "stdout",
     "output_type": "stream",
     "text": [
      "Dimension: 20, Real time: 2.17 seconds\n",
      "Dimension: 20, CPU time: 2.19 seconds\n",
      "\n"
     ]
    },
    {
     "name": "stderr",
     "output_type": "stream",
     "text": [
      "100%|██████████| 100/100 [00:02<00:00, 37.10it/s]\n"
     ]
    },
    {
     "name": "stdout",
     "output_type": "stream",
     "text": [
      "Dimension: 30, Real time: 2.70 seconds\n",
      "Dimension: 30, CPU time: 2.72 seconds\n",
      "\n"
     ]
    },
    {
     "name": "stderr",
     "output_type": "stream",
     "text": [
      "100%|██████████| 100/100 [00:03<00:00, 31.30it/s]\n"
     ]
    },
    {
     "name": "stdout",
     "output_type": "stream",
     "text": [
      "Dimension: 40, Real time: 3.20 seconds\n",
      "Dimension: 40, CPU time: 3.23 seconds\n",
      "\n"
     ]
    },
    {
     "name": "stderr",
     "output_type": "stream",
     "text": [
      "100%|██████████| 100/100 [00:03<00:00, 26.61it/s]\n"
     ]
    },
    {
     "name": "stdout",
     "output_type": "stream",
     "text": [
      "Dimension: 50, Real time: 3.76 seconds\n",
      "Dimension: 50, CPU time: 3.79 seconds\n",
      "\n"
     ]
    },
    {
     "name": "stderr",
     "output_type": "stream",
     "text": [
      "100%|██████████| 100/100 [00:04<00:00, 23.53it/s]\n"
     ]
    },
    {
     "name": "stdout",
     "output_type": "stream",
     "text": [
      "Dimension: 60, Real time: 4.25 seconds\n",
      "Dimension: 60, CPU time: 4.29 seconds\n",
      "\n"
     ]
    },
    {
     "name": "stderr",
     "output_type": "stream",
     "text": [
      "100%|██████████| 100/100 [00:04<00:00, 21.33it/s]\n"
     ]
    },
    {
     "name": "stdout",
     "output_type": "stream",
     "text": [
      "Dimension: 70, Real time: 4.69 seconds\n",
      "Dimension: 70, CPU time: 4.72 seconds\n",
      "\n"
     ]
    },
    {
     "name": "stderr",
     "output_type": "stream",
     "text": [
      "100%|██████████| 100/100 [00:05<00:00, 18.84it/s]\n"
     ]
    },
    {
     "name": "stdout",
     "output_type": "stream",
     "text": [
      "Dimension: 80, Real time: 5.31 seconds\n",
      "Dimension: 80, CPU time: 5.35 seconds\n",
      "\n"
     ]
    },
    {
     "name": "stderr",
     "output_type": "stream",
     "text": [
      "100%|██████████| 100/100 [00:05<00:00, 17.35it/s]\n"
     ]
    },
    {
     "name": "stdout",
     "output_type": "stream",
     "text": [
      "Dimension: 90, Real time: 5.77 seconds\n",
      "Dimension: 90, CPU time: 5.81 seconds\n",
      "\n"
     ]
    },
    {
     "name": "stderr",
     "output_type": "stream",
     "text": [
      "100%|██████████| 100/100 [00:06<00:00, 15.77it/s]\n"
     ]
    },
    {
     "name": "stdout",
     "output_type": "stream",
     "text": [
      "Dimension: 100, Real time: 6.34 seconds\n",
      "Dimension: 100, CPU time: 6.38 seconds\n",
      "\n"
     ]
    },
    {
     "name": "stderr",
     "output_type": "stream",
     "text": [
      "100%|██████████| 100/100 [00:06<00:00, 14.35it/s]\n"
     ]
    },
    {
     "name": "stdout",
     "output_type": "stream",
     "text": [
      "Dimension: 110, Real time: 6.97 seconds\n",
      "Dimension: 110, CPU time: 7.01 seconds\n",
      "\n"
     ]
    },
    {
     "name": "stderr",
     "output_type": "stream",
     "text": [
      "100%|██████████| 100/100 [00:07<00:00, 13.51it/s]\n"
     ]
    },
    {
     "name": "stdout",
     "output_type": "stream",
     "text": [
      "Dimension: 120, Real time: 7.40 seconds\n",
      "Dimension: 120, CPU time: 7.44 seconds\n",
      "\n"
     ]
    },
    {
     "name": "stderr",
     "output_type": "stream",
     "text": [
      "100%|██████████| 100/100 [00:07<00:00, 12.70it/s]\n"
     ]
    },
    {
     "name": "stdout",
     "output_type": "stream",
     "text": [
      "Dimension: 130, Real time: 7.88 seconds\n",
      "Dimension: 130, CPU time: 7.92 seconds\n",
      "\n"
     ]
    },
    {
     "name": "stderr",
     "output_type": "stream",
     "text": [
      "100%|██████████| 100/100 [00:08<00:00, 11.94it/s]\n"
     ]
    },
    {
     "name": "stdout",
     "output_type": "stream",
     "text": [
      "Dimension: 140, Real time: 8.38 seconds\n",
      "Dimension: 140, CPU time: 8.42 seconds\n",
      "\n"
     ]
    },
    {
     "name": "stderr",
     "output_type": "stream",
     "text": [
      "100%|██████████| 100/100 [00:08<00:00, 11.21it/s]\n"
     ]
    },
    {
     "name": "stdout",
     "output_type": "stream",
     "text": [
      "Dimension: 150, Real time: 8.92 seconds\n",
      "Dimension: 150, CPU time: 8.97 seconds\n",
      "\n"
     ]
    },
    {
     "name": "stderr",
     "output_type": "stream",
     "text": [
      "100%|██████████| 100/100 [00:09<00:00, 10.68it/s]\n"
     ]
    },
    {
     "name": "stdout",
     "output_type": "stream",
     "text": [
      "Dimension: 160, Real time: 9.37 seconds\n",
      "Dimension: 160, CPU time: 9.41 seconds\n",
      "\n"
     ]
    },
    {
     "name": "stderr",
     "output_type": "stream",
     "text": [
      "100%|██████████| 100/100 [00:10<00:00,  9.95it/s]\n"
     ]
    },
    {
     "name": "stdout",
     "output_type": "stream",
     "text": [
      "Dimension: 170, Real time: 10.06 seconds\n",
      "Dimension: 170, CPU time: 10.10 seconds\n",
      "\n"
     ]
    },
    {
     "name": "stderr",
     "output_type": "stream",
     "text": [
      "100%|██████████| 100/100 [00:10<00:00,  9.19it/s]\n"
     ]
    },
    {
     "name": "stdout",
     "output_type": "stream",
     "text": [
      "Dimension: 180, Real time: 10.89 seconds\n",
      "Dimension: 180, CPU time: 10.92 seconds\n",
      "\n"
     ]
    },
    {
     "name": "stderr",
     "output_type": "stream",
     "text": [
      "100%|██████████| 100/100 [00:11<00:00,  8.84it/s]\n"
     ]
    },
    {
     "name": "stdout",
     "output_type": "stream",
     "text": [
      "Dimension: 190, Real time: 11.31 seconds\n",
      "Dimension: 190, CPU time: 11.37 seconds\n",
      "\n"
     ]
    },
    {
     "name": "stderr",
     "output_type": "stream",
     "text": [
      "100%|██████████| 100/100 [00:11<00:00,  8.60it/s]\n"
     ]
    },
    {
     "name": "stdout",
     "output_type": "stream",
     "text": [
      "Dimension: 200, Real time: 11.63 seconds\n",
      "Dimension: 200, CPU time: 11.69 seconds\n",
      "\n"
     ]
    },
    {
     "name": "stderr",
     "output_type": "stream",
     "text": [
      "100%|██████████| 100/100 [00:12<00:00,  8.17it/s]\n"
     ]
    },
    {
     "name": "stdout",
     "output_type": "stream",
     "text": [
      "Dimension: 210, Real time: 12.24 seconds\n",
      "Dimension: 210, CPU time: 12.25 seconds\n",
      "\n"
     ]
    },
    {
     "name": "stderr",
     "output_type": "stream",
     "text": [
      "100%|██████████| 100/100 [00:12<00:00,  7.86it/s]\n"
     ]
    },
    {
     "name": "stdout",
     "output_type": "stream",
     "text": [
      "Dimension: 220, Real time: 12.73 seconds\n",
      "Dimension: 220, CPU time: 12.79 seconds\n",
      "\n"
     ]
    },
    {
     "name": "stderr",
     "output_type": "stream",
     "text": [
      "100%|██████████| 100/100 [00:13<00:00,  7.48it/s]\n"
     ]
    },
    {
     "name": "stdout",
     "output_type": "stream",
     "text": [
      "Dimension: 230, Real time: 13.37 seconds\n",
      "Dimension: 230, CPU time: 13.39 seconds\n",
      "\n"
     ]
    },
    {
     "name": "stderr",
     "output_type": "stream",
     "text": [
      "100%|██████████| 100/100 [00:13<00:00,  7.24it/s]\n"
     ]
    },
    {
     "name": "stdout",
     "output_type": "stream",
     "text": [
      "Dimension: 240, Real time: 13.82 seconds\n",
      "Dimension: 240, CPU time: 13.88 seconds\n",
      "\n"
     ]
    },
    {
     "name": "stderr",
     "output_type": "stream",
     "text": [
      "100%|██████████| 100/100 [00:14<00:00,  6.90it/s]\n"
     ]
    },
    {
     "name": "stdout",
     "output_type": "stream",
     "text": [
      "Dimension: 250, Real time: 14.50 seconds\n",
      "Dimension: 250, CPU time: 14.47 seconds\n",
      "\n"
     ]
    },
    {
     "name": "stderr",
     "output_type": "stream",
     "text": [
      "100%|██████████| 100/100 [00:14<00:00,  6.77it/s]\n"
     ]
    },
    {
     "name": "stdout",
     "output_type": "stream",
     "text": [
      "Dimension: 260, Real time: 14.78 seconds\n",
      "Dimension: 260, CPU time: 14.83 seconds\n",
      "\n"
     ]
    },
    {
     "name": "stderr",
     "output_type": "stream",
     "text": [
      "100%|██████████| 100/100 [00:15<00:00,  6.44it/s]\n"
     ]
    },
    {
     "name": "stdout",
     "output_type": "stream",
     "text": [
      "Dimension: 270, Real time: 15.53 seconds\n",
      "Dimension: 270, CPU time: 15.52 seconds\n",
      "\n"
     ]
    },
    {
     "name": "stderr",
     "output_type": "stream",
     "text": [
      "100%|██████████| 100/100 [00:16<00:00,  6.24it/s]\n"
     ]
    },
    {
     "name": "stdout",
     "output_type": "stream",
     "text": [
      "Dimension: 280, Real time: 16.04 seconds\n",
      "Dimension: 280, CPU time: 16.04 seconds\n",
      "\n"
     ]
    },
    {
     "name": "stderr",
     "output_type": "stream",
     "text": [
      "100%|██████████| 100/100 [00:16<00:00,  6.00it/s]\n"
     ]
    },
    {
     "name": "stdout",
     "output_type": "stream",
     "text": [
      "Dimension: 290, Real time: 16.68 seconds\n",
      "Dimension: 290, CPU time: 16.69 seconds\n",
      "\n"
     ]
    },
    {
     "name": "stderr",
     "output_type": "stream",
     "text": [
      "100%|██████████| 100/100 [00:17<00:00,  5.83it/s]"
     ]
    },
    {
     "name": "stdout",
     "output_type": "stream",
     "text": [
      "Dimension: 300, Real time: 17.16 seconds\n",
      "Dimension: 300, CPU time: 17.08 seconds\n",
      "\n"
     ]
    },
    {
     "name": "stderr",
     "output_type": "stream",
     "text": [
      "\n"
     ]
    }
   ],
   "source": [
    "for j, d in enumerate(d_list):\n",
    "\n",
    "    ## create flow\n",
    "    layer_affine1 = transforms.PositiveLinear(d)\n",
    "    layer_spline1 = transforms.RQspline(data_shape=(d,), num_bins=4)\n",
    "    layer_affine2 = transforms.PositiveLinear(d)\n",
    "    layer_spline2 = transforms.RQspline(data_shape=(d,), num_bins=4)\n",
    "    layers = transforms.CompositeTransform([layer_affine1, layer_spline1, layer_affine2, layer_spline2])\n",
    "    potential_flow = potential.ICRQ(layers, (d,))\n",
    "    potential_flow.to(\"cuda\")\n",
    "\n",
    "    ## calculate runtime for 1e3 iterations of objective function\n",
    "\n",
    "    a, b = torch.ones(n,d).to(\"cuda\"), torch.zeros(n,d).to(\"cuda\")\n",
    "    t1 = time.perf_counter(), time.process_time()\n",
    "    with torch.no_grad():\n",
    "        for i in tqdm(range(100)):\n",
    "            foo = objective_function(a, b, potential_flow)\n",
    "    t2 = time.perf_counter(), time.process_time()\n",
    "    time_list[j] = t2[1] - t1[1]\n",
    "\n",
    "    print(f\"Dimension: {d}, Real time: {t2[0] - t1[0]:.2f} seconds\")\n",
    "    print(f\"Dimension: {d}, CPU time: {t2[1] - t1[1]:.2f} seconds\")\n",
    "    print()"
   ]
  },
  {
   "cell_type": "code",
   "execution_count": 10,
   "metadata": {},
   "outputs": [
    {
     "data": {
      "text/plain": [
       "Text(0.5, 1.0, '$O(d), n = 1000$')"
      ]
     },
     "execution_count": 10,
     "metadata": {},
     "output_type": "execute_result"
    },
    {
     "data": {
      "image/png": "[encoded data removed]",
      "text/plain": [
       "<Figure size 500x300 with 1 Axes>"
      ]
     },
     "metadata": {},
     "output_type": "display_data"
    }
   ],
   "source": [
    "plt.figure(figsize = (5,3))\n",
    "plt.plot(d_list[:len(time_list)], time_list/100, marker='*')\n",
    "plt.xlabel(\"Dimension (d)\")\n",
    "plt.ylabel(\"Average time (s) for integral\")\n",
    "plt.title(r\"$O(d), n = 1000$\")"
   ]
  },
  {
   "cell_type": "code",
   "execution_count": 6,
   "metadata": {},
   "outputs": [],
   "source": [
    "d = 100\n",
    "n_num = 26\n",
    "n_list = [int(500 + 100*n) for n in range(n_num)]\n",
    "n_time_list = np.zeros(n_num)"
   ]
  },
  {
   "cell_type": "code",
   "execution_count": 8,
   "metadata": {},
   "outputs": [
    {
     "name": "stderr",
     "output_type": "stream",
     "text": [
      "100%|██████████| 100/100 [00:03<00:00, 27.84it/s]\n"
     ]
    },
    {
     "name": "stdout",
     "output_type": "stream",
     "text": [
      "n: 500, Real time: 3.59 seconds\n",
      "n: 500, CPU time: 3.62 seconds\n",
      "\n"
     ]
    },
    {
     "name": "stderr",
     "output_type": "stream",
     "text": [
      "100%|██████████| 100/100 [00:03<00:00, 25.24it/s]\n"
     ]
    },
    {
     "name": "stdout",
     "output_type": "stream",
     "text": [
      "n: 600, Real time: 3.96 seconds\n",
      "n: 600, CPU time: 3.99 seconds\n",
      "\n"
     ]
    },
    {
     "name": "stderr",
     "output_type": "stream",
     "text": [
      "100%|██████████| 100/100 [00:04<00:00, 22.15it/s]\n"
     ]
    },
    {
     "name": "stdout",
     "output_type": "stream",
     "text": [
      "n: 700, Real time: 4.52 seconds\n",
      "n: 700, CPU time: 4.56 seconds\n",
      "\n"
     ]
    },
    {
     "name": "stderr",
     "output_type": "stream",
     "text": [
      "100%|██████████| 100/100 [00:05<00:00, 19.46it/s]\n"
     ]
    },
    {
     "name": "stdout",
     "output_type": "stream",
     "text": [
      "n: 800, Real time: 5.14 seconds\n",
      "n: 800, CPU time: 5.19 seconds\n",
      "\n"
     ]
    },
    {
     "name": "stderr",
     "output_type": "stream",
     "text": [
      "100%|██████████| 100/100 [00:05<00:00, 17.55it/s]\n"
     ]
    },
    {
     "name": "stdout",
     "output_type": "stream",
     "text": [
      "n: 900, Real time: 5.70 seconds\n",
      "n: 900, CPU time: 5.74 seconds\n",
      "\n"
     ]
    },
    {
     "name": "stderr",
     "output_type": "stream",
     "text": [
      "100%|██████████| 100/100 [00:06<00:00, 16.15it/s]\n"
     ]
    },
    {
     "name": "stdout",
     "output_type": "stream",
     "text": [
      "n: 1000, Real time: 6.19 seconds\n",
      "n: 1000, CPU time: 6.24 seconds\n",
      "\n"
     ]
    },
    {
     "name": "stderr",
     "output_type": "stream",
     "text": [
      "100%|██████████| 100/100 [00:06<00:00, 14.68it/s]\n"
     ]
    },
    {
     "name": "stdout",
     "output_type": "stream",
     "text": [
      "n: 1100, Real time: 6.82 seconds\n",
      "n: 1100, CPU time: 6.86 seconds\n",
      "\n"
     ]
    },
    {
     "name": "stderr",
     "output_type": "stream",
     "text": [
      "100%|██████████| 100/100 [00:07<00:00, 13.12it/s]\n"
     ]
    },
    {
     "name": "stdout",
     "output_type": "stream",
     "text": [
      "n: 1200, Real time: 7.63 seconds\n",
      "n: 1200, CPU time: 7.67 seconds\n",
      "\n"
     ]
    },
    {
     "name": "stderr",
     "output_type": "stream",
     "text": [
      "100%|██████████| 100/100 [00:07<00:00, 12.54it/s]\n"
     ]
    },
    {
     "name": "stdout",
     "output_type": "stream",
     "text": [
      "n: 1300, Real time: 7.98 seconds\n",
      "n: 1300, CPU time: 8.02 seconds\n",
      "\n"
     ]
    },
    {
     "name": "stderr",
     "output_type": "stream",
     "text": [
      "100%|██████████| 100/100 [00:08<00:00, 11.67it/s]\n"
     ]
    },
    {
     "name": "stdout",
     "output_type": "stream",
     "text": [
      "n: 1400, Real time: 8.57 seconds\n",
      "n: 1400, CPU time: 8.62 seconds\n",
      "\n"
     ]
    },
    {
     "name": "stderr",
     "output_type": "stream",
     "text": [
      "100%|██████████| 100/100 [00:09<00:00, 10.97it/s]\n"
     ]
    },
    {
     "name": "stdout",
     "output_type": "stream",
     "text": [
      "n: 1500, Real time: 9.12 seconds\n",
      "n: 1500, CPU time: 9.15 seconds\n",
      "\n"
     ]
    },
    {
     "name": "stderr",
     "output_type": "stream",
     "text": [
      "100%|██████████| 100/100 [00:09<00:00, 10.16it/s]\n"
     ]
    },
    {
     "name": "stdout",
     "output_type": "stream",
     "text": [
      "n: 1600, Real time: 9.84 seconds\n",
      "n: 1600, CPU time: 9.89 seconds\n",
      "\n"
     ]
    },
    {
     "name": "stderr",
     "output_type": "stream",
     "text": [
      "100%|██████████| 100/100 [00:10<00:00,  9.57it/s]\n"
     ]
    },
    {
     "name": "stdout",
     "output_type": "stream",
     "text": [
      "n: 1700, Real time: 10.46 seconds\n",
      "n: 1700, CPU time: 10.51 seconds\n",
      "\n"
     ]
    },
    {
     "name": "stderr",
     "output_type": "stream",
     "text": [
      "100%|██████████| 100/100 [00:11<00:00,  8.98it/s]\n"
     ]
    },
    {
     "name": "stdout",
     "output_type": "stream",
     "text": [
      "n: 1800, Real time: 11.13 seconds\n",
      "n: 1800, CPU time: 11.19 seconds\n",
      "\n"
     ]
    },
    {
     "name": "stderr",
     "output_type": "stream",
     "text": [
      "100%|██████████| 100/100 [00:11<00:00,  8.50it/s]\n"
     ]
    },
    {
     "name": "stdout",
     "output_type": "stream",
     "text": [
      "n: 1900, Real time: 11.77 seconds\n",
      "n: 1900, CPU time: 11.84 seconds\n",
      "\n"
     ]
    },
    {
     "name": "stderr",
     "output_type": "stream",
     "text": [
      "100%|██████████| 100/100 [00:12<00:00,  8.26it/s]\n"
     ]
    },
    {
     "name": "stdout",
     "output_type": "stream",
     "text": [
      "n: 2000, Real time: 12.11 seconds\n",
      "n: 2000, CPU time: 12.16 seconds\n",
      "\n"
     ]
    },
    {
     "name": "stderr",
     "output_type": "stream",
     "text": [
      "100%|██████████| 100/100 [00:12<00:00,  7.85it/s]\n"
     ]
    },
    {
     "name": "stdout",
     "output_type": "stream",
     "text": [
      "n: 2100, Real time: 12.74 seconds\n",
      "n: 2100, CPU time: 12.81 seconds\n",
      "\n"
     ]
    },
    {
     "name": "stderr",
     "output_type": "stream",
     "text": [
      "100%|██████████| 100/100 [00:13<00:00,  7.41it/s]\n"
     ]
    },
    {
     "name": "stdout",
     "output_type": "stream",
     "text": [
      "n: 2200, Real time: 13.51 seconds\n",
      "n: 2200, CPU time: 13.53 seconds\n",
      "\n"
     ]
    },
    {
     "name": "stderr",
     "output_type": "stream",
     "text": [
      "100%|██████████| 100/100 [00:13<00:00,  7.17it/s]\n"
     ]
    },
    {
     "name": "stdout",
     "output_type": "stream",
     "text": [
      "n: 2300, Real time: 13.95 seconds\n",
      "n: 2300, CPU time: 14.01 seconds\n",
      "\n"
     ]
    },
    {
     "name": "stderr",
     "output_type": "stream",
     "text": [
      "100%|██████████| 100/100 [00:14<00:00,  6.86it/s]\n"
     ]
    },
    {
     "name": "stdout",
     "output_type": "stream",
     "text": [
      "n: 2400, Real time: 14.59 seconds\n",
      "n: 2400, CPU time: 14.65 seconds\n",
      "\n"
     ]
    },
    {
     "name": "stderr",
     "output_type": "stream",
     "text": [
      "100%|██████████| 100/100 [00:15<00:00,  6.61it/s]\n"
     ]
    },
    {
     "name": "stdout",
     "output_type": "stream",
     "text": [
      "n: 2500, Real time: 15.14 seconds\n",
      "n: 2500, CPU time: 15.21 seconds\n",
      "\n"
     ]
    },
    {
     "name": "stderr",
     "output_type": "stream",
     "text": [
      "100%|██████████| 100/100 [00:15<00:00,  6.36it/s]\n"
     ]
    },
    {
     "name": "stdout",
     "output_type": "stream",
     "text": [
      "n: 2600, Real time: 15.71 seconds\n",
      "n: 2600, CPU time: 15.74 seconds\n",
      "\n"
     ]
    },
    {
     "name": "stderr",
     "output_type": "stream",
     "text": [
      "100%|██████████| 100/100 [00:16<00:00,  6.20it/s]\n"
     ]
    },
    {
     "name": "stdout",
     "output_type": "stream",
     "text": [
      "n: 2700, Real time: 16.13 seconds\n",
      "n: 2700, CPU time: 16.20 seconds\n",
      "\n"
     ]
    },
    {
     "name": "stderr",
     "output_type": "stream",
     "text": [
      "100%|██████████| 100/100 [00:16<00:00,  5.91it/s]\n"
     ]
    },
    {
     "name": "stdout",
     "output_type": "stream",
     "text": [
      "n: 2800, Real time: 16.93 seconds\n",
      "n: 2800, CPU time: 16.96 seconds\n",
      "\n"
     ]
    },
    {
     "name": "stderr",
     "output_type": "stream",
     "text": [
      "100%|██████████| 100/100 [00:17<00:00,  5.79it/s]\n"
     ]
    },
    {
     "name": "stdout",
     "output_type": "stream",
     "text": [
      "n: 2900, Real time: 17.27 seconds\n",
      "n: 2900, CPU time: 17.33 seconds\n",
      "\n"
     ]
    },
    {
     "name": "stderr",
     "output_type": "stream",
     "text": [
      "100%|██████████| 100/100 [00:17<00:00,  5.59it/s]"
     ]
    },
    {
     "name": "stdout",
     "output_type": "stream",
     "text": [
      "n: 3000, Real time: 17.90 seconds\n",
      "n: 3000, CPU time: 17.92 seconds\n",
      "\n"
     ]
    },
    {
     "name": "stderr",
     "output_type": "stream",
     "text": [
      "\n"
     ]
    }
   ],
   "source": [
    "for j, n in enumerate(n_list):\n",
    "    ## create flow\n",
    "    layer_affine1 = transforms.PositiveLinear(d)\n",
    "    layer_spline1 = transforms.RQspline(data_shape=(d,), num_bins=4)\n",
    "    layer_affine2 = transforms.PositiveLinear(d)\n",
    "    layer_spline2 = transforms.RQspline(data_shape=(d,), num_bins=4)\n",
    "    layers = transforms.CompositeTransform([layer_affine1, layer_spline1, layer_affine2, layer_spline2])\n",
    "    potential_flow = potential.ICRQ(layers, (d,))\n",
    "    potential_flow.to(\"cuda:1\")\n",
    "\n",
    "    ## calculate runtime for 1e3 iterations of objective function\n",
    "\n",
    "    a, b = torch.ones(n,d).to(\"cuda:1\"), torch.zeros(n,d).to(\"cuda:1\")\n",
    "    t1 = time.perf_counter(), time.process_time()\n",
    "    with torch.no_grad():\n",
    "        for i in tqdm(range(100)):\n",
    "            foo = objective_function(a, b, potential_flow)\n",
    "    t2 = time.perf_counter(), time.process_time()\n",
    "    n_time_list[j] = t2[1] - t1[1]\n",
    "\n",
    "    print(f\"n: {n}, Real time: {t2[0] - t1[0]:.2f} seconds\")\n",
    "    print(f\"n: {n}, CPU time: {t2[1] - t1[1]:.2f} seconds\")\n",
    "    print()"
   ]
  },
  {
   "cell_type": "code",
   "execution_count": 9,
   "metadata": {},
   "outputs": [
    {
     "data": {
      "text/plain": [
       "Text(0.5, 1.0, '$O(n), d = 100$')"
      ]
     },
     "execution_count": 9,
     "metadata": {},
     "output_type": "execute_result"
    },
    {
     "data": {
      "image/png": "[encoded data removed]",
      "text/plain": [
       "<Figure size 500x300 with 1 Axes>"
      ]
     },
     "metadata": {},
     "output_type": "display_data"
    }
   ],
   "source": [
    "plt.figure(figsize = (5,3))\n",
    "plt.plot(n_list, n_time_list/100, marker='*')\n",
    "plt.xlabel(\"Sample size (n)\")\n",
    "plt.ylabel(\"Average time (s) for integral\")\n",
    "plt.title(r\"$O(n), d = 100$\")"
   ]
  },
  {
   "cell_type": "code",
   "execution_count": null,
   "metadata": {},
   "outputs": [],
   "source": []
  }
 ],
 "metadata": {
  "kernelspec": {
   "display_name": "Python 3.10.10 ('nsf')",
   "language": "python",
   "name": "python3"
  },
  "language_info": {
   "codemirror_mode": {
    "name": "ipython",
    "version": 3
   },
   "file_extension": ".py",
   "mimetype": "text/x-python",
   "name": "python",
   "nbconvert_exporter": "python",
   "pygments_lexer": "ipython3",
   "version": "3.10.10"
  },
  "orig_nbformat": 4,
  "vscode": {
   "interpreter": {
    "hash": "6a566d200f17f85181273f1df2cf49578138f48dbf3c5db771b8fbc824bec85a"
   }
  }
 },
 "nbformat": 4,
 "nbformat_minor": 2
}
